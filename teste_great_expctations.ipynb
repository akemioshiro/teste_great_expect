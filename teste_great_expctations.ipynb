{
 "cells": [
  {
   "cell_type": "markdown",
   "id": "0f470d4d-0a4b-41d9-96ef-059336d64370",
   "metadata": {},
   "source": [
    "Neste notebook, será realizados testes de qualidade de dados utilizando a biblioteca \"great expectactions\".\n",
    "O arquivo a ser validado esta no diretório raiz e com o nome \"vendas.csv\"."
   ]
  },
  {
   "cell_type": "code",
   "execution_count": 1,
   "id": "e7b8b295-64c6-4134-b7fc-462f053f177a",
   "metadata": {},
   "outputs": [],
   "source": [
    "import findspark\n",
    "findspark.init()"
   ]
  },
  {
   "cell_type": "code",
   "execution_count": 2,
   "id": "831f0e45-617d-4158-8f46-b41b76a6c236",
   "metadata": {},
   "outputs": [],
   "source": [
    "# Importantdo as dependências\n",
    "import string\n",
    "from datetime import datetime\n",
    "import great_expectations as ge\n",
    "from great_expectations.dataset import SparkDFDataset\n",
    "\n",
    "from pyspark.sql import SparkSession\n",
    "import pyspark.sql.functions as F\n",
    "import pyspark.sql.types as T"
   ]
  },
  {
   "cell_type": "code",
   "execution_count": 3,
   "id": "c4d4d6f1-ac17-4a18-96e8-aeb3f8e9c75a",
   "metadata": {},
   "outputs": [
    {
     "name": "stdout",
     "output_type": "stream",
     "text": [
      "22/07/11 09:13:27 WARN Utils: Your hostname, FALCONI-d25645 resolves to a loopback address: 127.0.1.1; using 192.168.65.49 instead (on interface eth0)\n",
      "22/07/11 09:13:27 WARN Utils: Set SPARK_LOCAL_IP if you need to bind to another address\n"
     ]
    },
    {
     "name": "stderr",
     "output_type": "stream",
     "text": [
      "Setting default log level to \"WARN\".\n",
      "To adjust logging level use sc.setLogLevel(newLevel). For SparkR, use setLogLevel(newLevel).\n"
     ]
    },
    {
     "name": "stdout",
     "output_type": "stream",
     "text": [
      "22/07/11 09:13:29 WARN NativeCodeLoader: Unable to load native-hadoop library for your platform... using builtin-java classes where applicable\n"
     ]
    }
   ],
   "source": [
    "spark = SparkSession.builder.master(\"local\").appName('spark_context')\\\n",
    "     .getOrCreate()"
   ]
  },
  {
   "cell_type": "code",
   "execution_count": 4,
   "id": "2c964f7b-d31e-4943-bbf6-b74a3d3cc50f",
   "metadata": {},
   "outputs": [],
   "source": [
    "# Definindo Schema do dataframe\n",
    "schema_vendas =  T.StructType ([\\\n",
    "      T.StructField(\"data\", T.StringType(), True),\\\n",
    "      T.StructField(\"cod_loja\", T.IntegerType(), True),\\\n",
    "      T.StructField(\"cod_produto\", T.IntegerType(), True),\\\n",
    "      T.StructField(\"qtd_vendas\", T.IntegerType(), True),\\\n",
    "      T.StructField(\"lucro\", T.StringType(), True),\\\n",
    "      T.StructField(\"tipo_venda\", T.StringType(), True),\\\n",
    "      T.StructField(\"desconto\", T.DoubleType(), True)\n",
    "])"
   ]
  },
  {
   "cell_type": "code",
   "execution_count": 5,
   "id": "5cecbe7b-1b7f-41ad-862c-e2ff36f0584b",
   "metadata": {},
   "outputs": [],
   "source": [
    "# Realizando a importação do arquivo csv\n",
    "df_vendas = spark.read.format(\"csv\").options(header='True', delimiter=';').schema(schema_vendas).csv(\"vendas.csv\")"
   ]
  },
  {
   "cell_type": "code",
   "execution_count": 6,
   "id": "0686cdc0-fea9-4393-b5b7-9b3d06c29463",
   "metadata": {},
   "outputs": [],
   "source": [
    "# Criando o dataframe com dados brutos que serão validados\n",
    "df_vendas_validacao = ge.dataset.SparkDFDataset(df_vendas)"
   ]
  },
  {
   "cell_type": "code",
   "execution_count": 7,
   "id": "25ec53c4-31c6-48fc-82f0-7a2f97cb8961",
   "metadata": {},
   "outputs": [
    {
     "name": "stderr",
     "output_type": "stream",
     "text": [
      "                                                                                \r"
     ]
    },
    {
     "data": {
      "text/plain": [
       "{\n",
       "  \"meta\": {},\n",
       "  \"result\": {\n",
       "    \"element_count\": 4871,\n",
       "    \"unexpected_count\": 1277,\n",
       "    \"unexpected_percent\": 26.21638267296243,\n",
       "    \"unexpected_percent_total\": 26.21638267296243,\n",
       "    \"partial_unexpected_list\": [\n",
       "      null,\n",
       "      null,\n",
       "      null,\n",
       "      null,\n",
       "      null,\n",
       "      null,\n",
       "      null,\n",
       "      null,\n",
       "      null,\n",
       "      null,\n",
       "      null,\n",
       "      null,\n",
       "      null,\n",
       "      null,\n",
       "      null,\n",
       "      null,\n",
       "      null,\n",
       "      null,\n",
       "      null,\n",
       "      null\n",
       "    ]\n",
       "  },\n",
       "  \"success\": false,\n",
       "  \"exception_info\": {\n",
       "    \"raised_exception\": false,\n",
       "    \"exception_traceback\": null,\n",
       "    \"exception_message\": null\n",
       "  }\n",
       "}"
      ]
     },
     "execution_count": 7,
     "metadata": {},
     "output_type": "execute_result"
    }
   ],
   "source": [
    "# Checando se coluna de desconto está null\n",
    "df_vendas_validacao.expect_column_values_to_not_be_null('desconto')"
   ]
  },
  {
   "cell_type": "code",
   "execution_count": 9,
   "id": "f07b96da-005c-4760-ac5a-144cff753f33",
   "metadata": {},
   "outputs": [
    {
     "data": {
      "text/plain": [
       "{\n",
       "  \"meta\": {},\n",
       "  \"result\": {\n",
       "    \"element_count\": 4871,\n",
       "    \"unexpected_count\": 0,\n",
       "    \"unexpected_percent\": 0.0,\n",
       "    \"unexpected_percent_total\": 0.0,\n",
       "    \"partial_unexpected_list\": []\n",
       "  },\n",
       "  \"success\": true,\n",
       "  \"exception_info\": {\n",
       "    \"raised_exception\": false,\n",
       "    \"exception_traceback\": null,\n",
       "    \"exception_message\": null\n",
       "  }\n",
       "}"
      ]
     },
     "execution_count": 9,
     "metadata": {},
     "output_type": "execute_result"
    }
   ],
   "source": [
    "# Checando se coluna de data esta vazia\n",
    "df_vendas_validacao.expect_column_values_to_not_be_null('data')"
   ]
  },
  {
   "cell_type": "code",
   "execution_count": 10,
   "id": "ee95e464-8ee2-48fe-a09c-85300b7c69f8",
   "metadata": {},
   "outputs": [
    {
     "name": "stderr",
     "output_type": "stream",
     "text": [
      "                                                                                \r"
     ]
    },
    {
     "data": {
      "text/plain": [
       "{\n",
       "  \"meta\": {},\n",
       "  \"result\": {\n",
       "    \"element_count\": 4871,\n",
       "    \"missing_count\": 0,\n",
       "    \"missing_percent\": 0.0,\n",
       "    \"unexpected_count\": 4871,\n",
       "    \"unexpected_percent\": 100.0,\n",
       "    \"unexpected_percent_total\": 100.0,\n",
       "    \"unexpected_percent_nonmissing\": 100.0,\n",
       "    \"partial_unexpected_list\": [\n",
       "      \"02/11/2019\",\n",
       "      \"02/11/2019\",\n",
       "      \"02/11/2019\",\n",
       "      \"02/11/2019\",\n",
       "      \"02/11/2019\",\n",
       "      \"02/11/2019\",\n",
       "      \"02/11/2019\",\n",
       "      \"02/11/2019\",\n",
       "      \"02/11/2019\",\n",
       "      \"02/11/2019\",\n",
       "      \"02/11/2019\",\n",
       "      \"02/11/2019\",\n",
       "      \"02/11/2019\",\n",
       "      \"02/11/2019\",\n",
       "      \"02/11/2019\",\n",
       "      \"02/11/2019\",\n",
       "      \"02/11/2019\",\n",
       "      \"02/11/2019\",\n",
       "      \"02/11/2019\",\n",
       "      \"02/11/2019\"\n",
       "    ],\n",
       "    \"partial_unexpected_index_list\": null,\n",
       "    \"partial_unexpected_counts\": [\n",
       "      {\n",
       "        \"value\": \"02/11/2019\",\n",
       "        \"count\": 20\n",
       "      }\n",
       "    ]\n",
       "  },\n",
       "  \"success\": false,\n",
       "  \"exception_info\": {\n",
       "    \"raised_exception\": false,\n",
       "    \"exception_traceback\": null,\n",
       "    \"exception_message\": null\n",
       "  }\n",
       "}"
      ]
     },
     "execution_count": 10,
     "metadata": {},
     "output_type": "execute_result"
    }
   ],
   "source": [
    "# Checando o formato da data\n",
    "df_vendas_validacao.expect_column_values_to_match_strftime_format('data', \"%Y-%m-%d\", result_format={'result_format': 'SUMMARY'})"
   ]
  },
  {
   "cell_type": "code",
   "execution_count": 11,
   "id": "a9c9e2ea-a317-44af-9759-7549e8d8d077",
   "metadata": {},
   "outputs": [
    {
     "data": {
      "text/html": [
       "<div>\n",
       "<style scoped>\n",
       "    .dataframe tbody tr th:only-of-type {\n",
       "        vertical-align: middle;\n",
       "    }\n",
       "\n",
       "    .dataframe tbody tr th {\n",
       "        vertical-align: top;\n",
       "    }\n",
       "\n",
       "    .dataframe thead th {\n",
       "        text-align: right;\n",
       "    }\n",
       "</style>\n",
       "<table border=\"1\" class=\"dataframe\">\n",
       "  <thead>\n",
       "    <tr style=\"text-align: right;\">\n",
       "      <th></th>\n",
       "      <th>data</th>\n",
       "      <th>cod_loja</th>\n",
       "      <th>cod_produto</th>\n",
       "      <th>qtd_vendas</th>\n",
       "      <th>lucro</th>\n",
       "      <th>tipo_venda</th>\n",
       "      <th>desconto</th>\n",
       "      <th>__eval_col_desconto</th>\n",
       "      <th>__eval_col_data</th>\n",
       "    </tr>\n",
       "  </thead>\n",
       "  <tbody>\n",
       "    <tr>\n",
       "      <th>0</th>\n",
       "      <td>02/11/2019</td>\n",
       "      <td>-28</td>\n",
       "      <td>32317</td>\n",
       "      <td>1</td>\n",
       "      <td>13,49</td>\n",
       "      <td>DIRETO P.D.V</td>\n",
       "      <td>0.0</td>\n",
       "      <td>0.0</td>\n",
       "      <td>02/11/2019</td>\n",
       "    </tr>\n",
       "    <tr>\n",
       "      <th>1</th>\n",
       "      <td>02/11/2019</td>\n",
       "      <td>-28</td>\n",
       "      <td>16325</td>\n",
       "      <td>1</td>\n",
       "      <td>7,98</td>\n",
       "      <td>ORCAMENTO</td>\n",
       "      <td>NaN</td>\n",
       "      <td>NaN</td>\n",
       "      <td>02/11/2019</td>\n",
       "    </tr>\n",
       "    <tr>\n",
       "      <th>2</th>\n",
       "      <td>02/11/2019</td>\n",
       "      <td>-18</td>\n",
       "      <td>21271</td>\n",
       "      <td>1</td>\n",
       "      <td>15,82</td>\n",
       "      <td>ORCAMENTO</td>\n",
       "      <td>NaN</td>\n",
       "      <td>NaN</td>\n",
       "      <td>02/11/2019</td>\n",
       "    </tr>\n",
       "    <tr>\n",
       "      <th>3</th>\n",
       "      <td>02/11/2019</td>\n",
       "      <td>9</td>\n",
       "      <td>8005</td>\n",
       "      <td>1</td>\n",
       "      <td>59,16</td>\n",
       "      <td>DIRETO P.D.V</td>\n",
       "      <td>0.0</td>\n",
       "      <td>0.0</td>\n",
       "      <td>02/11/2019</td>\n",
       "    </tr>\n",
       "    <tr>\n",
       "      <th>4</th>\n",
       "      <td>02/11/2019</td>\n",
       "      <td>21</td>\n",
       "      <td>28558</td>\n",
       "      <td>1</td>\n",
       "      <td>24,12</td>\n",
       "      <td>ORCAMENTO</td>\n",
       "      <td>30.0</td>\n",
       "      <td>30.0</td>\n",
       "      <td>02/11/2019</td>\n",
       "    </tr>\n",
       "  </tbody>\n",
       "</table>\n",
       "</div>"
      ],
      "text/plain": [
       "         data  cod_loja  cod_produto  qtd_vendas  lucro    tipo_venda  \\\n",
       "0  02/11/2019       -28        32317           1  13,49  DIRETO P.D.V   \n",
       "1  02/11/2019       -28        16325           1   7,98     ORCAMENTO   \n",
       "2  02/11/2019       -18        21271           1  15,82     ORCAMENTO   \n",
       "3  02/11/2019         9         8005           1  59,16  DIRETO P.D.V   \n",
       "4  02/11/2019        21        28558           1  24,12     ORCAMENTO   \n",
       "\n",
       "   desconto  __eval_col_desconto __eval_col_data  \n",
       "0       0.0                  0.0      02/11/2019  \n",
       "1       NaN                  NaN      02/11/2019  \n",
       "2       NaN                  NaN      02/11/2019  \n",
       "3       0.0                  0.0      02/11/2019  \n",
       "4      30.0                 30.0      02/11/2019  "
      ]
     },
     "execution_count": 11,
     "metadata": {},
     "output_type": "execute_result"
    }
   ],
   "source": [
    "# Exibindo o schema, \n",
    "# verificar qual linha\n",
    "df_vendas_validacao.head()"
   ]
  },
  {
   "cell_type": "code",
   "execution_count": 12,
   "id": "51468715-25e7-4bd2-87e4-f63f5d5917b3",
   "metadata": {},
   "outputs": [
    {
     "data": {
      "text/plain": [
       "great_expectations.dataset.sparkdf_dataset.SparkDFDataset"
      ]
     },
     "execution_count": 12,
     "metadata": {},
     "output_type": "execute_result"
    }
   ],
   "source": [
    "type(df_vendas_validacao)"
   ]
  },
  {
   "cell_type": "code",
   "execution_count": 13,
   "id": "c016b6c4-6869-4d7f-a3f9-550f793092af",
   "metadata": {},
   "outputs": [
    {
     "data": {
      "text/plain": [
       "{\n",
       "  \"meta\": {},\n",
       "  \"result\": {\n",
       "    \"element_count\": 4871,\n",
       "    \"missing_count\": 0,\n",
       "    \"missing_percent\": 0.0,\n",
       "    \"unexpected_count\": 3594,\n",
       "    \"unexpected_percent\": 73.78361732703756,\n",
       "    \"unexpected_percent_total\": 73.78361732703756,\n",
       "    \"unexpected_percent_nonmissing\": 73.78361732703756,\n",
       "    \"partial_unexpected_list\": [\n",
       "      80,\n",
       "      80,\n",
       "      118,\n",
       "      118,\n",
       "      119,\n",
       "      119,\n",
       "      119,\n",
       "      119,\n",
       "      119,\n",
       "      119,\n",
       "      119,\n",
       "      119,\n",
       "      119,\n",
       "      119,\n",
       "      119,\n",
       "      119,\n",
       "      119,\n",
       "      119,\n",
       "      119,\n",
       "      119\n",
       "    ]\n",
       "  },\n",
       "  \"success\": false,\n",
       "  \"exception_info\": {\n",
       "    \"raised_exception\": false,\n",
       "    \"exception_traceback\": null,\n",
       "    \"exception_message\": null\n",
       "  }\n",
       "}"
      ]
     },
     "execution_count": 13,
     "metadata": {},
     "output_type": "execute_result"
    }
   ],
   "source": [
    "# Checando se colunas são unicas (check de duplicação)\n",
    "df_vendas_validacao.expect_column_values_to_be_unique(\"cod_produto\")"
   ]
  },
  {
   "cell_type": "code",
   "execution_count": 14,
   "id": "e8aa8259-31cf-43fd-85e6-5db4f6a4b62e",
   "metadata": {},
   "outputs": [
    {
     "data": {
      "text/plain": [
       "{\n",
       "  \"meta\": {},\n",
       "  \"result\": {\n",
       "    \"element_count\": 4871,\n",
       "    \"missing_count\": 0,\n",
       "    \"missing_percent\": 0.0,\n",
       "    \"unexpected_count\": 3,\n",
       "    \"unexpected_percent\": 0.06158899609936358,\n",
       "    \"unexpected_percent_total\": 0.06158899609936358,\n",
       "    \"unexpected_percent_nonmissing\": 0.06158899609936358,\n",
       "    \"partial_unexpected_list\": [\n",
       "      -28,\n",
       "      -28,\n",
       "      -18\n",
       "    ],\n",
       "    \"partial_unexpected_index_list\": null,\n",
       "    \"partial_unexpected_counts\": [\n",
       "      {\n",
       "        \"value\": -28,\n",
       "        \"count\": 2\n",
       "      },\n",
       "      {\n",
       "        \"value\": -18,\n",
       "        \"count\": 1\n",
       "      }\n",
       "    ]\n",
       "  },\n",
       "  \"success\": false,\n",
       "  \"exception_info\": {\n",
       "    \"raised_exception\": false,\n",
       "    \"exception_traceback\": null,\n",
       "    \"exception_message\": null\n",
       "  }\n",
       "}"
      ]
     },
     "execution_count": 14,
     "metadata": {},
     "output_type": "execute_result"
    }
   ],
   "source": [
    "# Checando se colunas possuem valor negativo\n",
    "df_vendas_validacao.expect_column_values_to_be_between(\"cod_loja\", min_value=0.0, result_format={'result_format': 'SUMMARY'})"
   ]
  },
  {
   "cell_type": "code",
   "execution_count": 25,
   "id": "4dfb3c0c-b85c-4b39-8283-d059210217c8",
   "metadata": {},
   "outputs": [
    {
     "data": {
      "text/html": [
       "<div>\n",
       "<style scoped>\n",
       "    .dataframe tbody tr th:only-of-type {\n",
       "        vertical-align: middle;\n",
       "    }\n",
       "\n",
       "    .dataframe tbody tr th {\n",
       "        vertical-align: top;\n",
       "    }\n",
       "\n",
       "    .dataframe thead th {\n",
       "        text-align: right;\n",
       "    }\n",
       "</style>\n",
       "<table border=\"1\" class=\"dataframe\">\n",
       "  <thead>\n",
       "    <tr style=\"text-align: right;\">\n",
       "      <th></th>\n",
       "      <th>data</th>\n",
       "      <th>cod_loja</th>\n",
       "      <th>cod_produto</th>\n",
       "      <th>qtd_vendas</th>\n",
       "      <th>lucro</th>\n",
       "      <th>tipo_venda</th>\n",
       "      <th>desconto</th>\n",
       "      <th>__eval_col_desconto</th>\n",
       "      <th>__eval_col_data</th>\n",
       "      <th>__eval_col_cod_produto</th>\n",
       "      <th>__eval_col_cod_loja</th>\n",
       "      <th>__eval_col_tipo_venda</th>\n",
       "    </tr>\n",
       "  </thead>\n",
       "  <tbody>\n",
       "    <tr>\n",
       "      <th>0</th>\n",
       "      <td>02/11/2019</td>\n",
       "      <td>-28</td>\n",
       "      <td>32317</td>\n",
       "      <td>1</td>\n",
       "      <td>13,49</td>\n",
       "      <td>DIRETO P.D.V</td>\n",
       "      <td>0.0</td>\n",
       "      <td>0.0</td>\n",
       "      <td>02/11/2019</td>\n",
       "      <td>32317</td>\n",
       "      <td>-28</td>\n",
       "      <td>DIRETO P.D.V</td>\n",
       "    </tr>\n",
       "    <tr>\n",
       "      <th>1</th>\n",
       "      <td>02/11/2019</td>\n",
       "      <td>-28</td>\n",
       "      <td>16325</td>\n",
       "      <td>1</td>\n",
       "      <td>7,98</td>\n",
       "      <td>ORCAMENTO</td>\n",
       "      <td>NaN</td>\n",
       "      <td>NaN</td>\n",
       "      <td>02/11/2019</td>\n",
       "      <td>16325</td>\n",
       "      <td>-28</td>\n",
       "      <td>ORCAMENTO</td>\n",
       "    </tr>\n",
       "    <tr>\n",
       "      <th>2</th>\n",
       "      <td>02/11/2019</td>\n",
       "      <td>-18</td>\n",
       "      <td>21271</td>\n",
       "      <td>1</td>\n",
       "      <td>15,82</td>\n",
       "      <td>ORCAMENTO</td>\n",
       "      <td>NaN</td>\n",
       "      <td>NaN</td>\n",
       "      <td>02/11/2019</td>\n",
       "      <td>21271</td>\n",
       "      <td>-18</td>\n",
       "      <td>ORCAMENTO</td>\n",
       "    </tr>\n",
       "    <tr>\n",
       "      <th>3</th>\n",
       "      <td>02/11/2019</td>\n",
       "      <td>9</td>\n",
       "      <td>8005</td>\n",
       "      <td>1</td>\n",
       "      <td>59,16</td>\n",
       "      <td>DIRETO P.D.V</td>\n",
       "      <td>0.0</td>\n",
       "      <td>0.0</td>\n",
       "      <td>02/11/2019</td>\n",
       "      <td>8005</td>\n",
       "      <td>9</td>\n",
       "      <td>DIRETO P.D.V</td>\n",
       "    </tr>\n",
       "    <tr>\n",
       "      <th>4</th>\n",
       "      <td>02/11/2019</td>\n",
       "      <td>21</td>\n",
       "      <td>28558</td>\n",
       "      <td>1</td>\n",
       "      <td>24,12</td>\n",
       "      <td>ORCAMENTO</td>\n",
       "      <td>30.0</td>\n",
       "      <td>30.0</td>\n",
       "      <td>02/11/2019</td>\n",
       "      <td>28558</td>\n",
       "      <td>21</td>\n",
       "      <td>ORCAMENTO</td>\n",
       "    </tr>\n",
       "  </tbody>\n",
       "</table>\n",
       "</div>"
      ],
      "text/plain": [
       "         data  cod_loja  cod_produto  qtd_vendas  lucro    tipo_venda  \\\n",
       "0  02/11/2019       -28        32317           1  13,49  DIRETO P.D.V   \n",
       "1  02/11/2019       -28        16325           1   7,98     ORCAMENTO   \n",
       "2  02/11/2019       -18        21271           1  15,82     ORCAMENTO   \n",
       "3  02/11/2019         9         8005           1  59,16  DIRETO P.D.V   \n",
       "4  02/11/2019        21        28558           1  24,12     ORCAMENTO   \n",
       "\n",
       "   desconto  __eval_col_desconto __eval_col_data  __eval_col_cod_produto  \\\n",
       "0       0.0                  0.0      02/11/2019                   32317   \n",
       "1       NaN                  NaN      02/11/2019                   16325   \n",
       "2       NaN                  NaN      02/11/2019                   21271   \n",
       "3       0.0                  0.0      02/11/2019                    8005   \n",
       "4      30.0                 30.0      02/11/2019                   28558   \n",
       "\n",
       "   __eval_col_cod_loja __eval_col_tipo_venda  \n",
       "0                  -28          DIRETO P.D.V  \n",
       "1                  -28             ORCAMENTO  \n",
       "2                  -18             ORCAMENTO  \n",
       "3                    9          DIRETO P.D.V  \n",
       "4                   21             ORCAMENTO  "
      ]
     },
     "execution_count": 25,
     "metadata": {},
     "output_type": "execute_result"
    }
   ],
   "source": [
    "df_vendas_validacao.head()"
   ]
  },
  {
   "cell_type": "code",
   "execution_count": 15,
   "id": "d1f2ad5d-3f38-43cd-be1d-64de334fbe8a",
   "metadata": {},
   "outputs": [
    {
     "data": {
      "text/plain": [
       "{\n",
       "  \"meta\": {},\n",
       "  \"result\": {\n",
       "    \"element_count\": 4871,\n",
       "    \"missing_count\": 0,\n",
       "    \"missing_percent\": 0.0,\n",
       "    \"unexpected_count\": 3,\n",
       "    \"unexpected_percent\": 0.06158899609936358,\n",
       "    \"unexpected_percent_total\": 0.06158899609936358,\n",
       "    \"unexpected_percent_nonmissing\": 0.06158899609936358,\n",
       "    \"partial_unexpected_list\": [\n",
       "      -28,\n",
       "      -28,\n",
       "      -18\n",
       "    ],\n",
       "    \"partial_unexpected_index_list\": null,\n",
       "    \"partial_unexpected_counts\": [\n",
       "      {\n",
       "        \"value\": -28,\n",
       "        \"count\": 2\n",
       "      },\n",
       "      {\n",
       "        \"value\": -18,\n",
       "        \"count\": 1\n",
       "      }\n",
       "    ]\n",
       "  },\n",
       "  \"success\": false,\n",
       "  \"exception_info\": {\n",
       "    \"raised_exception\": false,\n",
       "    \"exception_traceback\": null,\n",
       "    \"exception_message\": null\n",
       "  }\n",
       "}"
      ]
     },
     "execution_count": 15,
     "metadata": {},
     "output_type": "execute_result"
    }
   ],
   "source": [
    "# Check de valores negativos\n",
    "df_vendas_validacao.expect_column_values_to_be_between(\"cod_loja\", min_value=0.0, result_format={'result_format': 'SUMMARY'})"
   ]
  },
  {
   "cell_type": "code",
   "execution_count": 16,
   "id": "15be1736-7fd3-4c63-b024-170c0d60673c",
   "metadata": {},
   "outputs": [
    {
     "data": {
      "text/plain": [
       "{\n",
       "  \"meta\": {},\n",
       "  \"result\": {},\n",
       "  \"success\": false,\n",
       "  \"exception_info\": {\n",
       "    \"raised_exception\": false,\n",
       "    \"exception_traceback\": null,\n",
       "    \"exception_message\": null\n",
       "  }\n",
       "}"
      ]
     },
     "execution_count": 16,
     "metadata": {},
     "output_type": "execute_result"
    }
   ],
   "source": [
    "df_vendas_validacao.expect_column_values_to_be_between(\"cod_loja\", min_value=0.0, result_format={'result_format': 'BOOLEAN_ONLY'})"
   ]
  },
  {
   "cell_type": "code",
   "execution_count": 16,
   "id": "32cfa4d1-ee5e-4980-829d-2441e991c5f3",
   "metadata": {},
   "outputs": [
    {
     "data": {
      "text/plain": [
       "{\n",
       "  \"meta\": {},\n",
       "  \"exception_info\": {\n",
       "    \"raised_exception\": false,\n",
       "    \"exception_traceback\": null,\n",
       "    \"exception_message\": null\n",
       "  },\n",
       "  \"result\": {\n",
       "    \"observed_value\": \"StringType\"\n",
       "  },\n",
       "  \"success\": false\n",
       "}"
      ]
     },
     "execution_count": 16,
     "metadata": {},
     "output_type": "execute_result"
    }
   ],
   "source": [
    "# Checando se os campos estão com o tipo correto\n",
    "df_vendas_validacao.expect_column_values_to_be_of_type(\"tipo_venda\", \"DoubleType\", result_format={'result_format': 'SUMMARY'})"
   ]
  },
  {
   "cell_type": "code",
   "execution_count": 17,
   "id": "518627cc-9d88-4167-a605-7e1391c027a3",
   "metadata": {},
   "outputs": [
    {
     "data": {
      "text/plain": [
       "{\n",
       "  \"meta\": {},\n",
       "  \"result\": {\n",
       "    \"observed_value\": \"StringType\"\n",
       "  },\n",
       "  \"success\": true,\n",
       "  \"exception_info\": {\n",
       "    \"raised_exception\": false,\n",
       "    \"exception_traceback\": null,\n",
       "    \"exception_message\": null\n",
       "  }\n",
       "}"
      ]
     },
     "execution_count": 17,
     "metadata": {},
     "output_type": "execute_result"
    }
   ],
   "source": [
    "# Checando se os campos estão com o tipo correto\n",
    "df_vendas_validacao.expect_column_values_to_be_of_type(\"tipo_venda\", \"StringType\", result_format={'result_format': 'BASIC'})"
   ]
  },
  {
   "cell_type": "code",
   "execution_count": 19,
   "id": "2356c850-0f21-4798-b3e2-99e92c88e336",
   "metadata": {},
   "outputs": [
    {
     "data": {
      "text/plain": [
       "{\n",
       "  \"meta\": {},\n",
       "  \"result\": {\n",
       "    \"observed_value\": \"DoubleType\"\n",
       "  },\n",
       "  \"success\": true,\n",
       "  \"exception_info\": {\n",
       "    \"raised_exception\": false,\n",
       "    \"exception_traceback\": null,\n",
       "    \"exception_message\": null\n",
       "  }\n",
       "}"
      ]
     },
     "execution_count": 19,
     "metadata": {},
     "output_type": "execute_result"
    }
   ],
   "source": [
    "df_vendas_validacao.expect_column_values_to_be_of_type(\"desconto\", \"DoubleType\")"
   ]
  },
  {
   "cell_type": "code",
   "execution_count": 24,
   "id": "5419227d-6a70-4d69-ad17-2a25f235f9e6",
   "metadata": {},
   "outputs": [
    {
     "data": {
      "text/plain": [
       "{\n",
       "  \"meta\": {},\n",
       "  \"result\": {\n",
       "    \"observed_value\": [\n",
       "      \"data\",\n",
       "      \"cod_loja\",\n",
       "      \"cod_produto\",\n",
       "      \"qtd_vendas\",\n",
       "      \"lucro\",\n",
       "      \"tipo_venda\",\n",
       "      \"desconto\",\n",
       "      \"__eval_col_desconto\",\n",
       "      \"__eval_col_data\",\n",
       "      \"__eval_col_cod_produto\",\n",
       "      \"__eval_col_cod_loja\",\n",
       "      \"__eval_col_tipo_venda\"\n",
       "    ]\n",
       "  },\n",
       "  \"success\": true,\n",
       "  \"exception_info\": {\n",
       "    \"raised_exception\": false,\n",
       "    \"exception_traceback\": null,\n",
       "    \"exception_message\": null\n",
       "  }\n",
       "}"
      ]
     },
     "execution_count": 24,
     "metadata": {},
     "output_type": "execute_result"
    }
   ],
   "source": [
    "# Checando ordem das colunas\n",
    "df_vendas_validacao.expect_table_columns_to_match_ordered_list(column_list=['data', 'cod_loja', 'cod_produto', 'qtd_vendas', 'lucro', 'tipo_venda', 'desconto', '__eval_col_desconto', '__eval_col_data', '__eval_col_cod_produto', '__eval_col_cod_loja', '__eval_col_tipo_venda'])"
   ]
  },
  {
   "cell_type": "code",
   "execution_count": null,
   "id": "c11354e6-681c-4800-84d1-68ad65c54488",
   "metadata": {},
   "outputs": [],
   "source": []
  },
  {
   "cell_type": "code",
   "execution_count": null,
   "id": "11ea44cf-a563-4c72-94dd-15b714fc1623",
   "metadata": {},
   "outputs": [],
   "source": []
  }
 ],
 "metadata": {
  "kernelspec": {
   "display_name": "Python 3 (ipykernel)",
   "language": "python",
   "name": "python3"
  },
  "language_info": {
   "codemirror_mode": {
    "name": "ipython",
    "version": 3
   },
   "file_extension": ".py",
   "mimetype": "text/x-python",
   "name": "python",
   "nbconvert_exporter": "python",
   "pygments_lexer": "ipython3",
   "version": "3.8.10"
  }
 },
 "nbformat": 4,
 "nbformat_minor": 5
}
